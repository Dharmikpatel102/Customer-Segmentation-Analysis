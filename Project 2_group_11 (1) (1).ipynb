{
 "cells": [
  {
   "cell_type": "markdown",
   "id": "8978f3f2",
   "metadata": {},
   "source": [
    "### **Group-11**\n",
    "- Dharmik Patel    : 0813537 \n",
    "- Manav Patel      : 0804383\n",
    "- Mayur Parmar     : 0811597\n",
    "- Deep Chaudhari   : 0813502\n",
    "- Nimesh Prajapati : 0816765"
   ]
  },
  {
   "cell_type": "markdown",
   "id": "69e593ec",
   "metadata": {},
   "source": [
    "### **Objective:** \n",
    "To understand and gain insights from a retail dataset by performing various exploratory data analyses, data visualization, and data modelling.\n",
    "\n",
    "### **Dataset Columns:**\n",
    "\n",
    "- **InvoiceNo:** Invoice number. A unique number per invoice.\n",
    "- **StockCode:** Product code. A unique number per product.\n",
    "- **Description:** Product description.\n",
    "- **Quantity:** The number of products sold per invoice.\n",
    "- **InvoiceDate:** The date and time of the invoice.\n",
    "- **UnitPrice:** The price of one unit of the product.\n",
    "- **CustomerID:** Customer identification number.\n",
    "- **Country:** The country where the customer resides.\n"
   ]
  },
  {
   "cell_type": "markdown",
   "id": "5be5c509",
   "metadata": {},
   "source": [
    "## 1. Data Preprocessing and Cleaning:\n"
   ]
  },
  {
   "cell_type": "markdown",
   "id": "6a0d4484",
   "metadata": {},
   "source": [
    "1.1. Import necessary libraries and read the dataset:"
   ]
  },
  {
   "cell_type": "code",
   "execution_count": 1,
   "id": "1c634427",
   "metadata": {},
   "outputs": [],
   "source": [
    "# Import all the libraries\n",
    "import numpy as np # linear algebra\n",
    "import pandas as pd # data processing, data manupilation\n",
    "\n",
    "# visualization\n",
    "import matplotlib.pyplot as plt\n",
    "from matplotlib import rcParams\n",
    "\n",
    "import seaborn as sns\n",
    "%matplotlib inline\n",
    "import plotly.offline as py\n",
    "import plotly.graph_objs as go\n",
    "import plotly.subplots as sp \n",
    "import plotly.figure_factory as ff\n",
    "import warnings\n",
    "warnings.filterwarnings(\"ignore\")"
   ]
  },
  {
   "cell_type": "markdown",
   "id": "8135c246",
   "metadata": {},
   "source": [
    "1.2. Display the top 10 rows of the dataframe:"
   ]
  },
  {
   "cell_type": "code",
   "execution_count": 2,
   "id": "80eb52dc",
   "metadata": {},
   "outputs": [
    {
     "data": {
      "text/html": [
       "<div>\n",
       "<style scoped>\n",
       "    .dataframe tbody tr th:only-of-type {\n",
       "        vertical-align: middle;\n",
       "    }\n",
       "\n",
       "    .dataframe tbody tr th {\n",
       "        vertical-align: top;\n",
       "    }\n",
       "\n",
       "    .dataframe thead th {\n",
       "        text-align: right;\n",
       "    }\n",
       "</style>\n",
       "<table border=\"1\" class=\"dataframe\">\n",
       "  <thead>\n",
       "    <tr style=\"text-align: right;\">\n",
       "      <th></th>\n",
       "      <th>InvoiceNo</th>\n",
       "      <th>StockCode</th>\n",
       "      <th>Description</th>\n",
       "      <th>Quantity</th>\n",
       "      <th>InvoiceDate</th>\n",
       "      <th>UnitPrice</th>\n",
       "      <th>CustomerID</th>\n",
       "      <th>Country</th>\n",
       "    </tr>\n",
       "  </thead>\n",
       "  <tbody>\n",
       "    <tr>\n",
       "      <th>0</th>\n",
       "      <td>536365</td>\n",
       "      <td>85123A</td>\n",
       "      <td>WHITE HANGING HEART T-LIGHT HOLDER</td>\n",
       "      <td>6</td>\n",
       "      <td>12/1/2010 8:26</td>\n",
       "      <td>2.55</td>\n",
       "      <td>17850.0</td>\n",
       "      <td>United Kingdom</td>\n",
       "    </tr>\n",
       "    <tr>\n",
       "      <th>1</th>\n",
       "      <td>536365</td>\n",
       "      <td>71053</td>\n",
       "      <td>WHITE METAL LANTERN</td>\n",
       "      <td>6</td>\n",
       "      <td>12/1/2010 8:26</td>\n",
       "      <td>3.39</td>\n",
       "      <td>17850.0</td>\n",
       "      <td>United Kingdom</td>\n",
       "    </tr>\n",
       "    <tr>\n",
       "      <th>2</th>\n",
       "      <td>536365</td>\n",
       "      <td>84406B</td>\n",
       "      <td>CREAM CUPID HEARTS COAT HANGER</td>\n",
       "      <td>8</td>\n",
       "      <td>12/1/2010 8:26</td>\n",
       "      <td>2.75</td>\n",
       "      <td>17850.0</td>\n",
       "      <td>United Kingdom</td>\n",
       "    </tr>\n",
       "    <tr>\n",
       "      <th>3</th>\n",
       "      <td>536365</td>\n",
       "      <td>84029G</td>\n",
       "      <td>KNITTED UNION FLAG HOT WATER BOTTLE</td>\n",
       "      <td>6</td>\n",
       "      <td>12/1/2010 8:26</td>\n",
       "      <td>3.39</td>\n",
       "      <td>17850.0</td>\n",
       "      <td>United Kingdom</td>\n",
       "    </tr>\n",
       "    <tr>\n",
       "      <th>4</th>\n",
       "      <td>536365</td>\n",
       "      <td>84029E</td>\n",
       "      <td>RED WOOLLY HOTTIE WHITE HEART.</td>\n",
       "      <td>6</td>\n",
       "      <td>12/1/2010 8:26</td>\n",
       "      <td>3.39</td>\n",
       "      <td>17850.0</td>\n",
       "      <td>United Kingdom</td>\n",
       "    </tr>\n",
       "    <tr>\n",
       "      <th>5</th>\n",
       "      <td>536365</td>\n",
       "      <td>22752</td>\n",
       "      <td>SET 7 BABUSHKA NESTING BOXES</td>\n",
       "      <td>2</td>\n",
       "      <td>12/1/2010 8:26</td>\n",
       "      <td>7.65</td>\n",
       "      <td>17850.0</td>\n",
       "      <td>United Kingdom</td>\n",
       "    </tr>\n",
       "    <tr>\n",
       "      <th>6</th>\n",
       "      <td>536365</td>\n",
       "      <td>21730</td>\n",
       "      <td>GLASS STAR FROSTED T-LIGHT HOLDER</td>\n",
       "      <td>6</td>\n",
       "      <td>12/1/2010 8:26</td>\n",
       "      <td>4.25</td>\n",
       "      <td>17850.0</td>\n",
       "      <td>United Kingdom</td>\n",
       "    </tr>\n",
       "    <tr>\n",
       "      <th>7</th>\n",
       "      <td>536366</td>\n",
       "      <td>22633</td>\n",
       "      <td>HAND WARMER UNION JACK</td>\n",
       "      <td>6</td>\n",
       "      <td>12/1/2010 8:28</td>\n",
       "      <td>1.85</td>\n",
       "      <td>17850.0</td>\n",
       "      <td>United Kingdom</td>\n",
       "    </tr>\n",
       "    <tr>\n",
       "      <th>8</th>\n",
       "      <td>536366</td>\n",
       "      <td>22632</td>\n",
       "      <td>HAND WARMER RED POLKA DOT</td>\n",
       "      <td>6</td>\n",
       "      <td>12/1/2010 8:28</td>\n",
       "      <td>1.85</td>\n",
       "      <td>17850.0</td>\n",
       "      <td>United Kingdom</td>\n",
       "    </tr>\n",
       "    <tr>\n",
       "      <th>9</th>\n",
       "      <td>536367</td>\n",
       "      <td>84879</td>\n",
       "      <td>ASSORTED COLOUR BIRD ORNAMENT</td>\n",
       "      <td>32</td>\n",
       "      <td>12/1/2010 8:34</td>\n",
       "      <td>1.69</td>\n",
       "      <td>13047.0</td>\n",
       "      <td>United Kingdom</td>\n",
       "    </tr>\n",
       "  </tbody>\n",
       "</table>\n",
       "</div>"
      ],
      "text/plain": [
       "  InvoiceNo StockCode                          Description  Quantity  \\\n",
       "0    536365    85123A   WHITE HANGING HEART T-LIGHT HOLDER         6   \n",
       "1    536365     71053                  WHITE METAL LANTERN         6   \n",
       "2    536365    84406B       CREAM CUPID HEARTS COAT HANGER         8   \n",
       "3    536365    84029G  KNITTED UNION FLAG HOT WATER BOTTLE         6   \n",
       "4    536365    84029E       RED WOOLLY HOTTIE WHITE HEART.         6   \n",
       "5    536365     22752         SET 7 BABUSHKA NESTING BOXES         2   \n",
       "6    536365     21730    GLASS STAR FROSTED T-LIGHT HOLDER         6   \n",
       "7    536366     22633               HAND WARMER UNION JACK         6   \n",
       "8    536366     22632            HAND WARMER RED POLKA DOT         6   \n",
       "9    536367     84879        ASSORTED COLOUR BIRD ORNAMENT        32   \n",
       "\n",
       "      InvoiceDate  UnitPrice  CustomerID         Country  \n",
       "0  12/1/2010 8:26       2.55     17850.0  United Kingdom  \n",
       "1  12/1/2010 8:26       3.39     17850.0  United Kingdom  \n",
       "2  12/1/2010 8:26       2.75     17850.0  United Kingdom  \n",
       "3  12/1/2010 8:26       3.39     17850.0  United Kingdom  \n",
       "4  12/1/2010 8:26       3.39     17850.0  United Kingdom  \n",
       "5  12/1/2010 8:26       7.65     17850.0  United Kingdom  \n",
       "6  12/1/2010 8:26       4.25     17850.0  United Kingdom  \n",
       "7  12/1/2010 8:28       1.85     17850.0  United Kingdom  \n",
       "8  12/1/2010 8:28       1.85     17850.0  United Kingdom  \n",
       "9  12/1/2010 8:34       1.69     13047.0  United Kingdom  "
      ]
     },
     "execution_count": 2,
     "metadata": {},
     "output_type": "execute_result"
    }
   ],
   "source": [
    "data = pd.read_csv(\"Sales_data.csv\", encoding = 'unicode_escape')\n",
    "data.head(10)"
   ]
  },
  {
   "cell_type": "markdown",
   "id": "0bc87eac",
   "metadata": {},
   "source": [
    "1.3. Check for missing values:\n",
    "\n"
   ]
  },
  {
   "cell_type": "code",
   "execution_count": 3,
   "id": "29a1a2d4",
   "metadata": {},
   "outputs": [
    {
     "data": {
      "text/plain": [
       "InvoiceNo           0\n",
       "StockCode           0\n",
       "Description      1454\n",
       "Quantity            0\n",
       "InvoiceDate         0\n",
       "UnitPrice           0\n",
       "CustomerID     135080\n",
       "Country             0\n",
       "dtype: int64"
      ]
     },
     "execution_count": 3,
     "metadata": {},
     "output_type": "execute_result"
    }
   ],
   "source": [
    "data.isnull().sum()"
   ]
  },
  {
   "cell_type": "markdown",
   "id": "347081eb",
   "metadata": {},
   "source": [
    "1.4. Convert the InvoiceDate column to datetime format:\n",
    "\n"
   ]
  },
  {
   "cell_type": "code",
   "execution_count": 4,
   "id": "92338bd7",
   "metadata": {},
   "outputs": [],
   "source": [
    "data['InvoiceDate'] = pd.to_datetime(data['InvoiceDate'])"
   ]
  },
  {
   "cell_type": "code",
   "execution_count": 5,
   "id": "5a3862b1",
   "metadata": {},
   "outputs": [
    {
     "data": {
      "text/html": [
       "<div>\n",
       "<style scoped>\n",
       "    .dataframe tbody tr th:only-of-type {\n",
       "        vertical-align: middle;\n",
       "    }\n",
       "\n",
       "    .dataframe tbody tr th {\n",
       "        vertical-align: top;\n",
       "    }\n",
       "\n",
       "    .dataframe thead th {\n",
       "        text-align: right;\n",
       "    }\n",
       "</style>\n",
       "<table border=\"1\" class=\"dataframe\">\n",
       "  <thead>\n",
       "    <tr style=\"text-align: right;\">\n",
       "      <th></th>\n",
       "      <th>InvoiceNo</th>\n",
       "      <th>StockCode</th>\n",
       "      <th>Description</th>\n",
       "      <th>Quantity</th>\n",
       "      <th>InvoiceDate</th>\n",
       "      <th>UnitPrice</th>\n",
       "      <th>CustomerID</th>\n",
       "      <th>Country</th>\n",
       "    </tr>\n",
       "  </thead>\n",
       "  <tbody>\n",
       "    <tr>\n",
       "      <th>0</th>\n",
       "      <td>536365</td>\n",
       "      <td>85123A</td>\n",
       "      <td>WHITE HANGING HEART T-LIGHT HOLDER</td>\n",
       "      <td>6</td>\n",
       "      <td>2010-12-01 08:26:00</td>\n",
       "      <td>2.55</td>\n",
       "      <td>17850.0</td>\n",
       "      <td>United Kingdom</td>\n",
       "    </tr>\n",
       "    <tr>\n",
       "      <th>1</th>\n",
       "      <td>536365</td>\n",
       "      <td>71053</td>\n",
       "      <td>WHITE METAL LANTERN</td>\n",
       "      <td>6</td>\n",
       "      <td>2010-12-01 08:26:00</td>\n",
       "      <td>3.39</td>\n",
       "      <td>17850.0</td>\n",
       "      <td>United Kingdom</td>\n",
       "    </tr>\n",
       "    <tr>\n",
       "      <th>2</th>\n",
       "      <td>536365</td>\n",
       "      <td>84406B</td>\n",
       "      <td>CREAM CUPID HEARTS COAT HANGER</td>\n",
       "      <td>8</td>\n",
       "      <td>2010-12-01 08:26:00</td>\n",
       "      <td>2.75</td>\n",
       "      <td>17850.0</td>\n",
       "      <td>United Kingdom</td>\n",
       "    </tr>\n",
       "    <tr>\n",
       "      <th>3</th>\n",
       "      <td>536365</td>\n",
       "      <td>84029G</td>\n",
       "      <td>KNITTED UNION FLAG HOT WATER BOTTLE</td>\n",
       "      <td>6</td>\n",
       "      <td>2010-12-01 08:26:00</td>\n",
       "      <td>3.39</td>\n",
       "      <td>17850.0</td>\n",
       "      <td>United Kingdom</td>\n",
       "    </tr>\n",
       "    <tr>\n",
       "      <th>4</th>\n",
       "      <td>536365</td>\n",
       "      <td>84029E</td>\n",
       "      <td>RED WOOLLY HOTTIE WHITE HEART.</td>\n",
       "      <td>6</td>\n",
       "      <td>2010-12-01 08:26:00</td>\n",
       "      <td>3.39</td>\n",
       "      <td>17850.0</td>\n",
       "      <td>United Kingdom</td>\n",
       "    </tr>\n",
       "  </tbody>\n",
       "</table>\n",
       "</div>"
      ],
      "text/plain": [
       "  InvoiceNo StockCode                          Description  Quantity  \\\n",
       "0    536365    85123A   WHITE HANGING HEART T-LIGHT HOLDER         6   \n",
       "1    536365     71053                  WHITE METAL LANTERN         6   \n",
       "2    536365    84406B       CREAM CUPID HEARTS COAT HANGER         8   \n",
       "3    536365    84029G  KNITTED UNION FLAG HOT WATER BOTTLE         6   \n",
       "4    536365    84029E       RED WOOLLY HOTTIE WHITE HEART.         6   \n",
       "\n",
       "          InvoiceDate  UnitPrice  CustomerID         Country  \n",
       "0 2010-12-01 08:26:00       2.55     17850.0  United Kingdom  \n",
       "1 2010-12-01 08:26:00       3.39     17850.0  United Kingdom  \n",
       "2 2010-12-01 08:26:00       2.75     17850.0  United Kingdom  \n",
       "3 2010-12-01 08:26:00       3.39     17850.0  United Kingdom  \n",
       "4 2010-12-01 08:26:00       3.39     17850.0  United Kingdom  "
      ]
     },
     "execution_count": 5,
     "metadata": {},
     "output_type": "execute_result"
    }
   ],
   "source": [
    "data.head()"
   ]
  },
  {
   "cell_type": "markdown",
   "id": "d9efbf30",
   "metadata": {},
   "source": [
    "1.5. Add a new column 'TotalPrice' to the dataframe which is the product of 'UnitPrice' and 'Quantity':\n",
    "\n"
   ]
  },
  {
   "cell_type": "code",
   "execution_count": 6,
   "id": "6fe3450f",
   "metadata": {},
   "outputs": [],
   "source": [
    "data['TotalPrice'] = data['Quantity'] * data['UnitPrice']"
   ]
  },
  {
   "cell_type": "code",
   "execution_count": 7,
   "id": "6ec90a0b",
   "metadata": {},
   "outputs": [
    {
     "data": {
      "text/html": [
       "<div>\n",
       "<style scoped>\n",
       "    .dataframe tbody tr th:only-of-type {\n",
       "        vertical-align: middle;\n",
       "    }\n",
       "\n",
       "    .dataframe tbody tr th {\n",
       "        vertical-align: top;\n",
       "    }\n",
       "\n",
       "    .dataframe thead th {\n",
       "        text-align: right;\n",
       "    }\n",
       "</style>\n",
       "<table border=\"1\" class=\"dataframe\">\n",
       "  <thead>\n",
       "    <tr style=\"text-align: right;\">\n",
       "      <th></th>\n",
       "      <th>InvoiceNo</th>\n",
       "      <th>StockCode</th>\n",
       "      <th>Description</th>\n",
       "      <th>Quantity</th>\n",
       "      <th>InvoiceDate</th>\n",
       "      <th>UnitPrice</th>\n",
       "      <th>CustomerID</th>\n",
       "      <th>Country</th>\n",
       "      <th>TotalPrice</th>\n",
       "    </tr>\n",
       "  </thead>\n",
       "  <tbody>\n",
       "    <tr>\n",
       "      <th>0</th>\n",
       "      <td>536365</td>\n",
       "      <td>85123A</td>\n",
       "      <td>WHITE HANGING HEART T-LIGHT HOLDER</td>\n",
       "      <td>6</td>\n",
       "      <td>2010-12-01 08:26:00</td>\n",
       "      <td>2.55</td>\n",
       "      <td>17850.0</td>\n",
       "      <td>United Kingdom</td>\n",
       "      <td>15.30</td>\n",
       "    </tr>\n",
       "    <tr>\n",
       "      <th>1</th>\n",
       "      <td>536365</td>\n",
       "      <td>71053</td>\n",
       "      <td>WHITE METAL LANTERN</td>\n",
       "      <td>6</td>\n",
       "      <td>2010-12-01 08:26:00</td>\n",
       "      <td>3.39</td>\n",
       "      <td>17850.0</td>\n",
       "      <td>United Kingdom</td>\n",
       "      <td>20.34</td>\n",
       "    </tr>\n",
       "    <tr>\n",
       "      <th>2</th>\n",
       "      <td>536365</td>\n",
       "      <td>84406B</td>\n",
       "      <td>CREAM CUPID HEARTS COAT HANGER</td>\n",
       "      <td>8</td>\n",
       "      <td>2010-12-01 08:26:00</td>\n",
       "      <td>2.75</td>\n",
       "      <td>17850.0</td>\n",
       "      <td>United Kingdom</td>\n",
       "      <td>22.00</td>\n",
       "    </tr>\n",
       "    <tr>\n",
       "      <th>3</th>\n",
       "      <td>536365</td>\n",
       "      <td>84029G</td>\n",
       "      <td>KNITTED UNION FLAG HOT WATER BOTTLE</td>\n",
       "      <td>6</td>\n",
       "      <td>2010-12-01 08:26:00</td>\n",
       "      <td>3.39</td>\n",
       "      <td>17850.0</td>\n",
       "      <td>United Kingdom</td>\n",
       "      <td>20.34</td>\n",
       "    </tr>\n",
       "    <tr>\n",
       "      <th>4</th>\n",
       "      <td>536365</td>\n",
       "      <td>84029E</td>\n",
       "      <td>RED WOOLLY HOTTIE WHITE HEART.</td>\n",
       "      <td>6</td>\n",
       "      <td>2010-12-01 08:26:00</td>\n",
       "      <td>3.39</td>\n",
       "      <td>17850.0</td>\n",
       "      <td>United Kingdom</td>\n",
       "      <td>20.34</td>\n",
       "    </tr>\n",
       "  </tbody>\n",
       "</table>\n",
       "</div>"
      ],
      "text/plain": [
       "  InvoiceNo StockCode                          Description  Quantity  \\\n",
       "0    536365    85123A   WHITE HANGING HEART T-LIGHT HOLDER         6   \n",
       "1    536365     71053                  WHITE METAL LANTERN         6   \n",
       "2    536365    84406B       CREAM CUPID HEARTS COAT HANGER         8   \n",
       "3    536365    84029G  KNITTED UNION FLAG HOT WATER BOTTLE         6   \n",
       "4    536365    84029E       RED WOOLLY HOTTIE WHITE HEART.         6   \n",
       "\n",
       "          InvoiceDate  UnitPrice  CustomerID         Country  TotalPrice  \n",
       "0 2010-12-01 08:26:00       2.55     17850.0  United Kingdom       15.30  \n",
       "1 2010-12-01 08:26:00       3.39     17850.0  United Kingdom       20.34  \n",
       "2 2010-12-01 08:26:00       2.75     17850.0  United Kingdom       22.00  \n",
       "3 2010-12-01 08:26:00       3.39     17850.0  United Kingdom       20.34  \n",
       "4 2010-12-01 08:26:00       3.39     17850.0  United Kingdom       20.34  "
      ]
     },
     "execution_count": 7,
     "metadata": {},
     "output_type": "execute_result"
    }
   ],
   "source": [
    "data.head()"
   ]
  },
  {
   "cell_type": "code",
   "execution_count": 8,
   "id": "1b10eaff",
   "metadata": {},
   "outputs": [
    {
     "name": "stdout",
     "output_type": "stream",
     "text": [
      "<class 'pandas.core.frame.DataFrame'>\n",
      "RangeIndex: 541909 entries, 0 to 541908\n",
      "Data columns (total 9 columns):\n",
      " #   Column       Non-Null Count   Dtype         \n",
      "---  ------       --------------   -----         \n",
      " 0   InvoiceNo    541909 non-null  object        \n",
      " 1   StockCode    541909 non-null  object        \n",
      " 2   Description  540455 non-null  object        \n",
      " 3   Quantity     541909 non-null  int64         \n",
      " 4   InvoiceDate  541909 non-null  datetime64[ns]\n",
      " 5   UnitPrice    541909 non-null  float64       \n",
      " 6   CustomerID   406829 non-null  float64       \n",
      " 7   Country      541909 non-null  object        \n",
      " 8   TotalPrice   541909 non-null  float64       \n",
      "dtypes: datetime64[ns](1), float64(3), int64(1), object(4)\n",
      "memory usage: 37.2+ MB\n"
     ]
    }
   ],
   "source": [
    "data.info()"
   ]
  },
  {
   "cell_type": "markdown",
   "id": "bbfaf538",
   "metadata": {},
   "source": [
    "## 2. Exploratory Data Analysis:\n"
   ]
  },
  {
   "cell_type": "markdown",
   "id": "87e33e5c",
   "metadata": {},
   "source": [
    "2.1. How many unique products are there in the dataset?\n"
   ]
  },
  {
   "cell_type": "code",
   "execution_count": 9,
   "id": "50777c75",
   "metadata": {},
   "outputs": [
    {
     "name": "stdout",
     "output_type": "stream",
     "text": [
      "\n",
      "Unique Values: \n",
      " 4070\n"
     ]
    }
   ],
   "source": [
    "print(\"\\nUnique Values: \\n\", data['StockCode'].nunique())"
   ]
  },
  {
   "cell_type": "code",
   "execution_count": 10,
   "id": "9dc03ed0",
   "metadata": {},
   "outputs": [
    {
     "name": "stdout",
     "output_type": "stream",
     "text": [
      "\n",
      "Unique Values: \n",
      " ['85123A' '71053' '84406B' ... '90214U' '47591b' '23843']\n"
     ]
    }
   ],
   "source": [
    "print(\"\\nUnique Values: \\n\", data['StockCode'].unique())"
   ]
  },
  {
   "cell_type": "markdown",
   "id": "1c96b6d4",
   "metadata": {},
   "source": [
    "2.2. Which are the top 10 products (using StockCode) sold by quantity?\n",
    "\n"
   ]
  },
  {
   "cell_type": "code",
   "execution_count": 11,
   "id": "ad5c1e89",
   "metadata": {},
   "outputs": [
    {
     "name": "stdout",
     "output_type": "stream",
     "text": [
      "Top 10 products (by StockCode) sold by quantity:\n",
      "StockCode\n",
      "22197     56450\n",
      "84077     53847\n",
      "85099B    47363\n",
      "85123A    38830\n",
      "84879     36221\n",
      "21212     36039\n",
      "23084     30646\n",
      "22492     26437\n",
      "22616     26315\n",
      "21977     24753\n",
      "Name: Quantity, dtype: int64\n"
     ]
    }
   ],
   "source": [
    "top_10_products = data.groupby('StockCode')['Quantity'].sum().sort_values(ascending=False).head(10)\n",
    "print(\"Top 10 products (by StockCode) sold by quantity:\")\n",
    "print(top_10_products)"
   ]
  },
  {
   "cell_type": "markdown",
   "id": "51b9e74d",
   "metadata": {},
   "source": [
    "2.3. How many unique customers are there in the dataset?\n",
    "\n"
   ]
  },
  {
   "cell_type": "code",
   "execution_count": 12,
   "id": "9e41333b",
   "metadata": {},
   "outputs": [
    {
     "name": "stdout",
     "output_type": "stream",
     "text": [
      "Number of unique customers: 4372\n"
     ]
    }
   ],
   "source": [
    "unique_customers_count = data['CustomerID'].nunique()\n",
    "print(\"Number of unique customers:\", unique_customers_count)"
   ]
  },
  {
   "cell_type": "markdown",
   "id": "c83e0f75",
   "metadata": {},
   "source": [
    "2.4. Which country has the maximum number of unique customers?\n",
    "\n"
   ]
  },
  {
   "cell_type": "code",
   "execution_count": 13,
   "id": "2b64fde9",
   "metadata": {},
   "outputs": [
    {
     "name": "stdout",
     "output_type": "stream",
     "text": [
      "Country with the maximum number of unique customers: United Kingdom\n"
     ]
    }
   ],
   "source": [
    "unique_customers_by_country = data.groupby('Country')['CustomerID'].nunique()\n",
    "country_with_max_customers = unique_customers_by_country.idxmax()\n",
    "print(\"Country with the maximum number of unique customers:\", country_with_max_customers)"
   ]
  },
  {
   "cell_type": "markdown",
   "id": "fc356316",
   "metadata": {},
   "source": [
    "2.5. Visualize the distribution of 'TotalPrice' using a histogram.\n",
    "\n"
   ]
  },
  {
   "cell_type": "code",
   "execution_count": 14,
   "id": "dfa7327c",
   "metadata": {},
   "outputs": [
    {
     "data": {
      "image/png": "[encoded data removed]",
      "text/plain": [
       "<Figure size 432x288 with 1 Axes>"
      ]
     },
     "metadata": {
      "needs_background": "light"
     },
     "output_type": "display_data"
    }
   ],
   "source": [
    "plt.hist(data['TotalPrice'], bins=20, edgecolor='black')\n",
    "plt.ylabel('Frequency')\n",
    "plt.title('Distribution of TotalPrice')\n",
    "plt.show()"
   ]
  },
  {
   "cell_type": "markdown",
   "id": "f535b887",
   "metadata": {},
   "source": [
    "## 3. Data Aggregation:\n"
   ]
  },
  {
   "cell_type": "markdown",
   "id": "35fdb78c",
   "metadata": {},
   "source": [
    "3.1. Compute the total sales (TotalPrice) per country.\n",
    "\n"
   ]
  },
  {
   "cell_type": "code",
   "execution_count": 15,
   "id": "f3ef288a",
   "metadata": {},
   "outputs": [
    {
     "name": "stdout",
     "output_type": "stream",
     "text": [
      "Total sales (TotalPrice) per country:\n",
      "Country\n",
      "Australia                137077.270\n",
      "Austria                   10154.320\n",
      "Bahrain                     548.400\n",
      "Belgium                   40910.960\n",
      "Brazil                     1143.600\n",
      "Canada                     3666.380\n",
      "Channel Islands           20086.290\n",
      "Cyprus                    12946.290\n",
      "Czech Republic              707.720\n",
      "Denmark                   18768.140\n",
      "EIRE                     263276.820\n",
      "European Community         1291.750\n",
      "Finland                   22326.740\n",
      "France                   197403.900\n",
      "Germany                  221698.210\n",
      "Greece                     4710.520\n",
      "Hong Kong                 10117.040\n",
      "Iceland                    4310.000\n",
      "Israel                     7907.820\n",
      "Italy                     16890.510\n",
      "Japan                     35340.620\n",
      "Lebanon                    1693.880\n",
      "Lithuania                  1661.060\n",
      "Malta                      2505.470\n",
      "Netherlands              284661.540\n",
      "Norway                    35163.460\n",
      "Poland                     7213.140\n",
      "Portugal                  29367.020\n",
      "RSA                        1002.310\n",
      "Saudi Arabia                131.170\n",
      "Singapore                  9120.390\n",
      "Spain                     54774.580\n",
      "Sweden                    36595.910\n",
      "Switzerland               56385.350\n",
      "USA                        1730.920\n",
      "United Arab Emirates       1902.280\n",
      "United Kingdom          8187806.364\n",
      "Unspecified                4749.790\n",
      "Name: TotalPrice, dtype: float64\n"
     ]
    }
   ],
   "source": [
    "df = data.groupby('Country')['TotalPrice'].sum()\n",
    "print(\"Total sales (TotalPrice) per country:\")\n",
    "print(df)"
   ]
  },
  {
   "cell_type": "markdown",
   "id": "2afaf60f",
   "metadata": {},
   "source": [
    "3.2. Identify the month in which the sales were highest.\n",
    "\n"
   ]
  },
  {
   "cell_type": "code",
   "execution_count": 16,
   "id": "e76a24ca",
   "metadata": {},
   "outputs": [
    {
     "name": "stdout",
     "output_type": "stream",
     "text": [
      "Month with the highest sales: 11\n"
     ]
    }
   ],
   "source": [
    "data['InvoiceDate'] = pd.to_datetime(data['InvoiceDate'])\n",
    "data['Month'] = data['InvoiceDate'].dt.month\n",
    "monthly_total_sales = data.groupby('Month')['TotalPrice'].sum()\n",
    "month_with_highest_sales = monthly_total_sales.idxmax()\n",
    "print(\"Month with the highest sales:\", month_with_highest_sales)"
   ]
  },
  {
   "cell_type": "markdown",
   "id": "e0a409f9",
   "metadata": {},
   "source": [
    "3.3. Compute the average unit price per product.\n",
    "\n"
   ]
  },
  {
   "cell_type": "code",
   "execution_count": 17,
   "id": "a7ecc4bb",
   "metadata": {},
   "outputs": [
    {
     "name": "stdout",
     "output_type": "stream",
     "text": [
      "Average unit price per product:\n",
      "StockCode\n",
      "10002            1.056849\n",
      "10080            0.376667\n",
      "10120            0.210000\n",
      "10123C           0.487500\n",
      "10123G           0.000000\n",
      "                  ...    \n",
      "gift_0001_20    15.038000\n",
      "gift_0001_30    21.941250\n",
      "gift_0001_40    33.566667\n",
      "gift_0001_50    41.890000\n",
      "m                2.550000\n",
      "Name: UnitPrice, Length: 4070, dtype: float64\n"
     ]
    }
   ],
   "source": [
    "df1 = data.groupby('StockCode')['UnitPrice'].mean()\n",
    "\n",
    "print(\"Average unit price per product:\")\n",
    "print(df1)"
   ]
  },
  {
   "cell_type": "markdown",
   "id": "e7569b06",
   "metadata": {},
   "source": [
    "3.4. Compute the total quantity sold per customer.\n",
    "\n"
   ]
  },
  {
   "cell_type": "code",
   "execution_count": 18,
   "id": "61a6e604",
   "metadata": {},
   "outputs": [
    {
     "name": "stdout",
     "output_type": "stream",
     "text": [
      "Total quantity sold per customer:\n",
      "CustomerID\n",
      "12346.0       0\n",
      "12347.0    2458\n",
      "12348.0    2341\n",
      "12349.0     631\n",
      "12350.0     197\n",
      "           ... \n",
      "18280.0      45\n",
      "18281.0      54\n",
      "18282.0      98\n",
      "18283.0    1397\n",
      "18287.0    1586\n",
      "Name: Quantity, Length: 4372, dtype: int64\n"
     ]
    }
   ],
   "source": [
    "df2 = data.groupby('CustomerID')['Quantity'].sum()\n",
    "print(\"Total quantity sold per customer:\")\n",
    "print(df2)"
   ]
  },
  {
   "cell_type": "markdown",
   "id": "7066f2e2",
   "metadata": {},
   "source": [
    "## 4. Data Visualization:\n"
   ]
  },
  {
   "cell_type": "markdown",
   "id": "d69e475a",
   "metadata": {},
   "source": [
    "4.1. Create a bar chart showcasing the sales (TotalPrice) for each country.\n",
    "\n"
   ]
  },
  {
   "cell_type": "code",
   "execution_count": 19,
   "id": "9845d3ea",
   "metadata": {},
   "outputs": [
    {
     "data": {
      "image/png": "[encoded data removed]",
      "text/plain": [
       "<Figure size 864x432 with 1 Axes>"
      ]
     },
     "metadata": {
      "needs_background": "light"
     },
     "output_type": "display_data"
    }
   ],
   "source": [
    "plt.figure(figsize=(12, 6))\n",
    "df.plot(kind='bar')\n",
    "plt.xlabel('Country')\n",
    "plt.ylabel('Total Sales (TotalPrice)')\n",
    "plt.title('Total Sales (TotalPrice) by Country')\n",
    "plt.xticks(rotation=45)\n",
    "plt.show()"
   ]
  },
  {
   "cell_type": "markdown",
   "id": "6d99b512",
   "metadata": {},
   "source": [
    "4.2. Plot a line graph to showcase the trend of sales over time.\n",
    "\n"
   ]
  },
  {
   "cell_type": "code",
   "execution_count": 20,
   "id": "7ee159ac",
   "metadata": {},
   "outputs": [
    {
     "data": {
      "image/png": "[encoded data removed]",
      "text/plain": [
       "<Figure size 864x432 with 1 Axes>"
      ]
     },
     "metadata": {
      "needs_background": "light"
     },
     "output_type": "display_data"
    }
   ],
   "source": [
    "daily_total_sales = data.resample('D', on='InvoiceDate').agg({'TotalPrice': 'sum'})\n",
    "plt.figure(figsize=(12, 6))\n",
    "plt.plot(daily_total_sales.index, daily_total_sales['TotalPrice'], marker='o')\n",
    "plt.xlabel('Date')\n",
    "plt.ylabel('Total Sales (TotalPrice)')\n",
    "plt.title('Trend of Sales Over Time')\n",
    "plt.grid(True)\n",
    "plt.show()"
   ]
  },
  {
   "cell_type": "code",
   "execution_count": 21,
   "id": "589ddcfc",
   "metadata": {},
   "outputs": [
    {
     "data": {
      "image/png": "[encoded data removed]",
      "text/plain": [
       "<Figure size 864x432 with 1 Axes>"
      ]
     },
     "metadata": {
      "needs_background": "light"
     },
     "output_type": "display_data"
    }
   ],
   "source": [
    "plt.figure(figsize=(12, 6))\n",
    "plt.plot(monthly_total_sales.index, monthly_total_sales.values, marker='o')\n",
    "plt.title('Sales Trend Over Time')\n",
    "plt.xlabel('Month')\n",
    "plt.ylabel('Total Sales (TotalPrice)')\n",
    "plt.grid(True)\n",
    "plt.show()"
   ]
  },
  {
   "cell_type": "markdown",
   "id": "4d60870d",
   "metadata": {},
   "source": [
    "4.3. Use a scatter plot to visualize the relationship between UnitPrice and Quantity.\n",
    "\n"
   ]
  },
  {
   "cell_type": "code",
   "execution_count": 22,
   "id": "08eb8c83",
   "metadata": {},
   "outputs": [
    {
     "data": {
      "image/png": "[encoded data removed]",
      "text/plain": [
       "<Figure size 720x432 with 1 Axes>"
      ]
     },
     "metadata": {
      "needs_background": "light"
     },
     "output_type": "display_data"
    }
   ],
   "source": [
    "plt.figure(figsize=(10, 6))\n",
    "plt.scatter(data['Quantity'], data['UnitPrice'], alpha=0.5)\n",
    "plt.xlabel('Unit Price')\n",
    "plt.ylabel('Quantity')\n",
    "plt.title('Scatter Plot: UnitPrice vs Quantity')\n",
    "plt.grid(True)\n",
    "plt.show()"
   ]
  },
  {
   "cell_type": "markdown",
   "id": "3ac1231c",
   "metadata": {},
   "source": [
    "4.4. Plot a heatmap to display the correlation between numeric columns.\n",
    "\n"
   ]
  },
  {
   "cell_type": "code",
   "execution_count": 23,
   "id": "5467fb17",
   "metadata": {},
   "outputs": [
    {
     "data": {
      "image/png": "[encoded data removed]",
      "text/plain": [
       "<Figure size 720x576 with 2 Axes>"
      ]
     },
     "metadata": {
      "needs_background": "light"
     },
     "output_type": "display_data"
    }
   ],
   "source": [
    "correlation_matrix = data.corr()\n",
    "\n",
    "# Plot the heatmap\n",
    "plt.figure(figsize=(10, 8))\n",
    "sns.heatmap(correlation_matrix, annot=True, cmap='coolwarm', fmt='.2f', linewidths=0.5)\n",
    "plt.title('Correlation Heatmap')\n",
    "plt.show()"
   ]
  },
  {
   "cell_type": "markdown",
   "id": "06a454c0",
   "metadata": {},
   "source": [
    "## 5. Advanced Analysis:\n"
   ]
  },
  {
   "cell_type": "markdown",
   "id": "daa4315b",
   "metadata": {},
   "source": [
    "5.1. Identify potential outliers in the dataset for the Quantity and UnitPrice columns using appropriate visualization techniques.\n",
    "\n"
   ]
  },
  {
   "cell_type": "code",
   "execution_count": 24,
   "id": "4b4c7241",
   "metadata": {},
   "outputs": [
    {
     "data": {
      "image/png": "[encoded data removed]",
      "text/plain": [
       "<Figure size 576x288 with 1 Axes>"
      ]
     },
     "metadata": {
      "needs_background": "light"
     },
     "output_type": "display_data"
    },
    {
     "data": {
      "image/png": "[encoded data removed]",
      "text/plain": [
       "<Figure size 576x288 with 1 Axes>"
      ]
     },
     "metadata": {
      "needs_background": "light"
     },
     "output_type": "display_data"
    }
   ],
   "source": [
    "import matplotlib.pyplot as plt\n",
    "import seaborn as sns\n",
    "plt.figure(figsize=(8, 4))\n",
    "sns.boxplot(x=data['Quantity'])\n",
    "plt.title('Box Plot for Quantity')\n",
    "plt.show()\n",
    "plt.figure(figsize=(8, 4))\n",
    "sns.boxplot(x=data['UnitPrice'])\n",
    "plt.title('Box Plot for UnitPrice')\n",
    "plt.show()"
   ]
  },
  {
   "cell_type": "markdown",
   "id": "625251f7",
   "metadata": {},
   "source": [
    "5.2. Segment customers based on their purchase history (Consider factors like total purchases, frequency of purchases, etc.).\n",
    "\n"
   ]
  },
  {
   "cell_type": "code",
   "execution_count": 25,
   "id": "97536b8c",
   "metadata": {},
   "outputs": [],
   "source": [
    "import pandas as pd\n",
    "\n",
    "# Assuming df is your DataFrame\n",
    "data['TotalPurchase'] = data['Quantity'] * data['UnitPrice']\n",
    "df_new = data.select_dtypes(include='number')"
   ]
  },
  {
   "cell_type": "code",
   "execution_count": 26,
   "id": "e13caee3",
   "metadata": {},
   "outputs": [
    {
     "data": {
      "image/png": "[encoded data removed]",
      "text/plain": [
       "<Figure size 720x432 with 1 Axes>"
      ]
     },
     "metadata": {
      "needs_background": "light"
     },
     "output_type": "display_data"
    }
   ],
   "source": [
    "from sklearn.cluster import KMeans\n",
    "from sklearn.preprocessing import StandardScaler\n",
    "df_new['TotalPurchase'] = df_new['Quantity'] * df_new['UnitPrice']\n",
    "\n",
    "# Calculate Recency\n",
    "max_date = data['InvoiceDate'].max()\n",
    "data['Recency'] = (max_date - data.groupby('CustomerID')['InvoiceDate'].transform('max')).dt.days\n",
    "\n",
    "# Aggregate customer-level features\n",
    "customer_data = data.groupby('CustomerID').agg({\n",
    "    'TotalPurchase': 'sum',\n",
    "    'InvoiceNo': 'nunique',  \n",
    "    'Recency': 'min'  \n",
    "}).reset_index()\n",
    "\n",
    "# Standardize the features\n",
    "scaler = StandardScaler()\n",
    "Z = customer_data[['TotalPurchase', 'InvoiceNo', 'Recency']]\n",
    "X_scaled = scaler.fit_transform(Z)\n",
    "\n",
    "# Perform K-Means clustering\n",
    "n_clusters = 3  # Define the number of clusters\n",
    "kmeans = KMeans(n_clusters=n_clusters, random_state=42)\n",
    "customer_data['Cluster'] = kmeans.fit_predict(X_scaled)\n",
    "\n",
    "# Visualize the clusters\n",
    "cluster_colors = {0: 'red', 1: 'blue', 2: 'green'}  \n",
    "\n",
    "# Set the figure size\n",
    "plt.figure(figsize=(10, 6)) \n",
    "\n",
    "# Visualize the clusters with custom colors and figure size\n",
    "sns.scatterplot(x='TotalPurchase', y='InvoiceNo', hue='Cluster', data=customer_data, palette=cluster_colors)\n",
    "plt.title('Customer Segmentation')\n",
    "plt.show()"
   ]
  },
  {
   "cell_type": "markdown",
   "id": "c9cf22cf",
   "metadata": {},
   "source": [
    "5.3. For the top 5 products (by quantity sold), visualize their monthly sales trend.\n",
    "\n"
   ]
  },
  {
   "cell_type": "code",
   "execution_count": 27,
   "id": "1ecfcdd9",
   "metadata": {},
   "outputs": [
    {
     "data": {
      "text/plain": [
       "Index(['22197', '84077', '85099B', '85123A', '84879'], dtype='object', name='StockCode')"
      ]
     },
     "execution_count": 27,
     "metadata": {},
     "output_type": "execute_result"
    }
   ],
   "source": [
    "# Get the top 5 products by quantity sold\n",
    "top_products = data.groupby('StockCode')['Quantity'].sum().nlargest(5).index\n",
    "top_products"
   ]
  },
  {
   "cell_type": "code",
   "execution_count": 28,
   "id": "37da921d",
   "metadata": {},
   "outputs": [
    {
     "data": {
      "image/png": "[encoded data removed]",
      "text/plain": [
       "<Figure size 864x432 with 1 Axes>"
      ]
     },
     "metadata": {
      "needs_background": "light"
     },
     "output_type": "display_data"
    }
   ],
   "source": [
    "# Filter the data for the top 5 products\n",
    "top_products_data = data[data['StockCode'].isin(top_products)]\n",
    "\n",
    "# Create a line graph for sales trend of top 5 products\n",
    "plt.figure(figsize=(12, 6))\n",
    "for product in top_products:\n",
    "    product_data = top_products_data[top_products_data['StockCode'] == product]\n",
    "    monthly_sales = product_data.groupby('Month')['Quantity'].sum()\n",
    "    plt.plot(monthly_sales.index, monthly_sales.values, label=f'Product {product}')\n",
    "\n",
    "plt.title('Monthly Sales Trend for Top 5 Products by Quantity Sold')\n",
    "plt.xlabel('Month')\n",
    "plt.ylabel('Quantity Sold')\n",
    "plt.legend()\n",
    "plt.grid(True)\n",
    "plt.show()\n"
   ]
  },
  {
   "cell_type": "markdown",
   "id": "711370b6",
   "metadata": {},
   "source": [
    "# Advanced Machine Learning Analysis with Retail Dataset\n",
    "\n"
   ]
  },
  {
   "cell_type": "markdown",
   "id": "c7bce6ec",
   "metadata": {},
   "source": [
    "## 6. Feature Engineering:"
   ]
  },
  {
   "cell_type": "markdown",
   "id": "925558ca",
   "metadata": {},
   "source": [
    "6.1 Extract 'Year', 'Month', 'Day', and 'Hour' from the InvoiceDate and create separate columns for each.\n"
   ]
  },
  {
   "cell_type": "code",
   "execution_count": 29,
   "id": "86307cb5",
   "metadata": {},
   "outputs": [
    {
     "data": {
      "text/html": [
       "<div>\n",
       "<style scoped>\n",
       "    .dataframe tbody tr th:only-of-type {\n",
       "        vertical-align: middle;\n",
       "    }\n",
       "\n",
       "    .dataframe tbody tr th {\n",
       "        vertical-align: top;\n",
       "    }\n",
       "\n",
       "    .dataframe thead th {\n",
       "        text-align: right;\n",
       "    }\n",
       "</style>\n",
       "<table border=\"1\" class=\"dataframe\">\n",
       "  <thead>\n",
       "    <tr style=\"text-align: right;\">\n",
       "      <th></th>\n",
       "      <th>InvoiceNo</th>\n",
       "      <th>StockCode</th>\n",
       "      <th>Description</th>\n",
       "      <th>Quantity</th>\n",
       "      <th>InvoiceDate</th>\n",
       "      <th>UnitPrice</th>\n",
       "      <th>CustomerID</th>\n",
       "      <th>Country</th>\n",
       "      <th>TotalPrice</th>\n",
       "      <th>Month</th>\n",
       "      <th>TotalPurchase</th>\n",
       "      <th>Recency</th>\n",
       "      <th>Year</th>\n",
       "      <th>Day</th>\n",
       "      <th>Hour</th>\n",
       "    </tr>\n",
       "  </thead>\n",
       "  <tbody>\n",
       "    <tr>\n",
       "      <th>0</th>\n",
       "      <td>536365</td>\n",
       "      <td>85123A</td>\n",
       "      <td>WHITE HANGING HEART T-LIGHT HOLDER</td>\n",
       "      <td>6</td>\n",
       "      <td>2010-12-01 08:26:00</td>\n",
       "      <td>2.55</td>\n",
       "      <td>17850.0</td>\n",
       "      <td>United Kingdom</td>\n",
       "      <td>15.30</td>\n",
       "      <td>12</td>\n",
       "      <td>15.30</td>\n",
       "      <td>301.0</td>\n",
       "      <td>2010</td>\n",
       "      <td>1</td>\n",
       "      <td>8</td>\n",
       "    </tr>\n",
       "    <tr>\n",
       "      <th>1</th>\n",
       "      <td>536365</td>\n",
       "      <td>71053</td>\n",
       "      <td>WHITE METAL LANTERN</td>\n",
       "      <td>6</td>\n",
       "      <td>2010-12-01 08:26:00</td>\n",
       "      <td>3.39</td>\n",
       "      <td>17850.0</td>\n",
       "      <td>United Kingdom</td>\n",
       "      <td>20.34</td>\n",
       "      <td>12</td>\n",
       "      <td>20.34</td>\n",
       "      <td>301.0</td>\n",
       "      <td>2010</td>\n",
       "      <td>1</td>\n",
       "      <td>8</td>\n",
       "    </tr>\n",
       "    <tr>\n",
       "      <th>2</th>\n",
       "      <td>536365</td>\n",
       "      <td>84406B</td>\n",
       "      <td>CREAM CUPID HEARTS COAT HANGER</td>\n",
       "      <td>8</td>\n",
       "      <td>2010-12-01 08:26:00</td>\n",
       "      <td>2.75</td>\n",
       "      <td>17850.0</td>\n",
       "      <td>United Kingdom</td>\n",
       "      <td>22.00</td>\n",
       "      <td>12</td>\n",
       "      <td>22.00</td>\n",
       "      <td>301.0</td>\n",
       "      <td>2010</td>\n",
       "      <td>1</td>\n",
       "      <td>8</td>\n",
       "    </tr>\n",
       "    <tr>\n",
       "      <th>3</th>\n",
       "      <td>536365</td>\n",
       "      <td>84029G</td>\n",
       "      <td>KNITTED UNION FLAG HOT WATER BOTTLE</td>\n",
       "      <td>6</td>\n",
       "      <td>2010-12-01 08:26:00</td>\n",
       "      <td>3.39</td>\n",
       "      <td>17850.0</td>\n",
       "      <td>United Kingdom</td>\n",
       "      <td>20.34</td>\n",
       "      <td>12</td>\n",
       "      <td>20.34</td>\n",
       "      <td>301.0</td>\n",
       "      <td>2010</td>\n",
       "      <td>1</td>\n",
       "      <td>8</td>\n",
       "    </tr>\n",
       "    <tr>\n",
       "      <th>4</th>\n",
       "      <td>536365</td>\n",
       "      <td>84029E</td>\n",
       "      <td>RED WOOLLY HOTTIE WHITE HEART.</td>\n",
       "      <td>6</td>\n",
       "      <td>2010-12-01 08:26:00</td>\n",
       "      <td>3.39</td>\n",
       "      <td>17850.0</td>\n",
       "      <td>United Kingdom</td>\n",
       "      <td>20.34</td>\n",
       "      <td>12</td>\n",
       "      <td>20.34</td>\n",
       "      <td>301.0</td>\n",
       "      <td>2010</td>\n",
       "      <td>1</td>\n",
       "      <td>8</td>\n",
       "    </tr>\n",
       "  </tbody>\n",
       "</table>\n",
       "</div>"
      ],
      "text/plain": [
       "  InvoiceNo StockCode                          Description  Quantity  \\\n",
       "0    536365    85123A   WHITE HANGING HEART T-LIGHT HOLDER         6   \n",
       "1    536365     71053                  WHITE METAL LANTERN         6   \n",
       "2    536365    84406B       CREAM CUPID HEARTS COAT HANGER         8   \n",
       "3    536365    84029G  KNITTED UNION FLAG HOT WATER BOTTLE         6   \n",
       "4    536365    84029E       RED WOOLLY HOTTIE WHITE HEART.         6   \n",
       "\n",
       "          InvoiceDate  UnitPrice  CustomerID         Country  TotalPrice  \\\n",
       "0 2010-12-01 08:26:00       2.55     17850.0  United Kingdom       15.30   \n",
       "1 2010-12-01 08:26:00       3.39     17850.0  United Kingdom       20.34   \n",
       "2 2010-12-01 08:26:00       2.75     17850.0  United Kingdom       22.00   \n",
       "3 2010-12-01 08:26:00       3.39     17850.0  United Kingdom       20.34   \n",
       "4 2010-12-01 08:26:00       3.39     17850.0  United Kingdom       20.34   \n",
       "\n",
       "   Month  TotalPurchase  Recency  Year  Day  Hour  \n",
       "0     12          15.30    301.0  2010    1     8  \n",
       "1     12          20.34    301.0  2010    1     8  \n",
       "2     12          22.00    301.0  2010    1     8  \n",
       "3     12          20.34    301.0  2010    1     8  \n",
       "4     12          20.34    301.0  2010    1     8  "
      ]
     },
     "execution_count": 29,
     "metadata": {},
     "output_type": "execute_result"
    }
   ],
   "source": [
    "data['InvoiceDate'] = pd.to_datetime(data['InvoiceDate'])\n",
    "\n",
    "# Extract 'Year', 'Month', 'Day', and 'Hour' into separate columns\n",
    "data['Year'] = data['InvoiceDate'].dt.year\n",
    "data['Month'] = data['InvoiceDate'].dt.month\n",
    "data['Day'] = data['InvoiceDate'].dt.day\n",
    "data['Hour'] = data['InvoiceDate'].dt.hour\n",
    "\n",
    "# Display the updated DataFrame\n",
    "data.head()"
   ]
  },
  {
   "cell_type": "markdown",
   "id": "f6b9648a",
   "metadata": {},
   "source": [
    "6.2 Create a new column `'ReturnFlag'` where if `'Quantity'` is less than zero, it's 1, otherwise 0. This will indicate whether an item was returned.\n"
   ]
  },
  {
   "cell_type": "code",
   "execution_count": 30,
   "id": "c129127d",
   "metadata": {},
   "outputs": [
    {
     "name": "stdout",
     "output_type": "stream",
     "text": [
      "  InvoiceNo StockCode                          Description  Quantity  \\\n",
      "0    536365    85123A   WHITE HANGING HEART T-LIGHT HOLDER         6   \n",
      "1    536365     71053                  WHITE METAL LANTERN         6   \n",
      "2    536365    84406B       CREAM CUPID HEARTS COAT HANGER         8   \n",
      "3    536365    84029G  KNITTED UNION FLAG HOT WATER BOTTLE         6   \n",
      "4    536365    84029E       RED WOOLLY HOTTIE WHITE HEART.         6   \n",
      "\n",
      "          InvoiceDate  UnitPrice  CustomerID         Country  TotalPrice  \\\n",
      "0 2010-12-01 08:26:00       2.55     17850.0  United Kingdom       15.30   \n",
      "1 2010-12-01 08:26:00       3.39     17850.0  United Kingdom       20.34   \n",
      "2 2010-12-01 08:26:00       2.75     17850.0  United Kingdom       22.00   \n",
      "3 2010-12-01 08:26:00       3.39     17850.0  United Kingdom       20.34   \n",
      "4 2010-12-01 08:26:00       3.39     17850.0  United Kingdom       20.34   \n",
      "\n",
      "   Month  TotalPurchase  Recency  Year  Day  Hour  ReturnFlag  \n",
      "0     12          15.30    301.0  2010    1     8           0  \n",
      "1     12          20.34    301.0  2010    1     8           0  \n",
      "2     12          22.00    301.0  2010    1     8           0  \n",
      "3     12          20.34    301.0  2010    1     8           0  \n",
      "4     12          20.34    301.0  2010    1     8           0  \n"
     ]
    }
   ],
   "source": [
    "data['ReturnFlag'] = data['Quantity'].apply(lambda x: 1 if x < 0 else 0)\n",
    "\n",
    "# Display the updated DataFrame\n",
    "print(data.head())"
   ]
  },
  {
   "cell_type": "markdown",
   "id": "8205d375",
   "metadata": {},
   "source": [
    "## 7. Customer Segmentation using Clustering:"
   ]
  },
  {
   "cell_type": "markdown",
   "id": "7a6b42c7",
   "metadata": {},
   "source": [
    "7.1. Create a matrix RFM (Recency, Frequency, Monetary) for each customer:\n",
    "- Recency: Number of days since the last purchase\n",
    "- Frequency: Number of purchases\n",
    "- Monetary: Total money spent"
   ]
  },
  {
   "cell_type": "code",
   "execution_count": 31,
   "id": "ee598d2a",
   "metadata": {},
   "outputs": [
    {
     "data": {
      "text/html": [
       "<div>\n",
       "<style scoped>\n",
       "    .dataframe tbody tr th:only-of-type {\n",
       "        vertical-align: middle;\n",
       "    }\n",
       "\n",
       "    .dataframe tbody tr th {\n",
       "        vertical-align: top;\n",
       "    }\n",
       "\n",
       "    .dataframe thead th {\n",
       "        text-align: right;\n",
       "    }\n",
       "</style>\n",
       "<table border=\"1\" class=\"dataframe\">\n",
       "  <thead>\n",
       "    <tr style=\"text-align: right;\">\n",
       "      <th></th>\n",
       "      <th>Recency</th>\n",
       "      <th>Frequency</th>\n",
       "      <th>Monetary</th>\n",
       "    </tr>\n",
       "    <tr>\n",
       "      <th>CustomerID</th>\n",
       "      <th></th>\n",
       "      <th></th>\n",
       "      <th></th>\n",
       "    </tr>\n",
       "  </thead>\n",
       "  <tbody>\n",
       "    <tr>\n",
       "      <th>12346.0</th>\n",
       "      <td>325</td>\n",
       "      <td>2</td>\n",
       "      <td>0.00</td>\n",
       "    </tr>\n",
       "    <tr>\n",
       "      <th>12347.0</th>\n",
       "      <td>1</td>\n",
       "      <td>182</td>\n",
       "      <td>4310.00</td>\n",
       "    </tr>\n",
       "    <tr>\n",
       "      <th>12348.0</th>\n",
       "      <td>74</td>\n",
       "      <td>31</td>\n",
       "      <td>1797.24</td>\n",
       "    </tr>\n",
       "    <tr>\n",
       "      <th>12349.0</th>\n",
       "      <td>18</td>\n",
       "      <td>73</td>\n",
       "      <td>1757.55</td>\n",
       "    </tr>\n",
       "    <tr>\n",
       "      <th>12350.0</th>\n",
       "      <td>309</td>\n",
       "      <td>17</td>\n",
       "      <td>334.40</td>\n",
       "    </tr>\n",
       "    <tr>\n",
       "      <th>...</th>\n",
       "      <td>...</td>\n",
       "      <td>...</td>\n",
       "      <td>...</td>\n",
       "    </tr>\n",
       "    <tr>\n",
       "      <th>18280.0</th>\n",
       "      <td>277</td>\n",
       "      <td>10</td>\n",
       "      <td>180.60</td>\n",
       "    </tr>\n",
       "    <tr>\n",
       "      <th>18281.0</th>\n",
       "      <td>180</td>\n",
       "      <td>7</td>\n",
       "      <td>80.82</td>\n",
       "    </tr>\n",
       "    <tr>\n",
       "      <th>18282.0</th>\n",
       "      <td>7</td>\n",
       "      <td>13</td>\n",
       "      <td>176.60</td>\n",
       "    </tr>\n",
       "    <tr>\n",
       "      <th>18283.0</th>\n",
       "      <td>3</td>\n",
       "      <td>756</td>\n",
       "      <td>2094.88</td>\n",
       "    </tr>\n",
       "    <tr>\n",
       "      <th>18287.0</th>\n",
       "      <td>42</td>\n",
       "      <td>70</td>\n",
       "      <td>1837.28</td>\n",
       "    </tr>\n",
       "  </tbody>\n",
       "</table>\n",
       "<p>4372 rows × 3 columns</p>\n",
       "</div>"
      ],
      "text/plain": [
       "            Recency  Frequency  Monetary\n",
       "CustomerID                              \n",
       "12346.0         325          2      0.00\n",
       "12347.0           1        182   4310.00\n",
       "12348.0          74         31   1797.24\n",
       "12349.0          18         73   1757.55\n",
       "12350.0         309         17    334.40\n",
       "...             ...        ...       ...\n",
       "18280.0         277         10    180.60\n",
       "18281.0         180          7     80.82\n",
       "18282.0           7         13    176.60\n",
       "18283.0           3        756   2094.88\n",
       "18287.0          42         70   1837.28\n",
       "\n",
       "[4372 rows x 3 columns]"
      ]
     },
     "execution_count": 31,
     "metadata": {},
     "output_type": "execute_result"
    }
   ],
   "source": [
    "# Calculate Recency, Frequency and Monetary for each customer\n",
    "current_date = data['InvoiceDate'].max()\n",
    "\n",
    "rfm = data.groupby('CustomerID').agg({\n",
    "    'InvoiceDate': lambda x: (current_date - x.max()).days,  # Recency\n",
    "    'InvoiceNo': 'count',                                   # Frequency\n",
    "    'TotalPrice': 'sum'                                      # Monetary\n",
    "}).rename(columns={\n",
    "    'InvoiceDate': 'Recency',\n",
    "    'InvoiceNo': 'Frequency',\n",
    "    'TotalPrice': 'Monetary'\n",
    "})\n",
    "\n",
    "rfm"
   ]
  },
  {
   "cell_type": "markdown",
   "id": "d919df35",
   "metadata": {},
   "source": [
    "7.2. Normalize the RFM matrix with StandardScaler:"
   ]
  },
  {
   "cell_type": "code",
   "execution_count": 32,
   "id": "8f179dfa",
   "metadata": {},
   "outputs": [
    {
     "data": {
      "text/plain": [
       "array([[ 2.32202285, -0.3917197 , -0.23100099],\n",
       "       [-0.89373323,  0.38265697,  0.29343167],\n",
       "       [-0.1691956 , -0.26695902, -0.01231622],\n",
       "       ...,\n",
       "       [-0.83418219, -0.34439668, -0.20951263],\n",
       "       [-0.87388289,  2.85205812,  0.02390005],\n",
       "       [-0.48680114, -0.0991774 , -0.00744423]])"
      ]
     },
     "execution_count": 32,
     "metadata": {},
     "output_type": "execute_result"
    }
   ],
   "source": [
    "from sklearn.preprocessing import StandardScaler\n",
    "\n",
    "scaler = StandardScaler()\n",
    "rfm_normalized = scaler.fit_transform(rfm)\n",
    "rfm_normalized"
   ]
  },
  {
   "cell_type": "markdown",
   "id": "f405b1e2",
   "metadata": {},
   "source": [
    "7.3. Use KMeans clustering to segment customers into different groups. Determine the optimal number of clusters using the Elbow method."
   ]
  },
  {
   "cell_type": "code",
   "execution_count": 33,
   "id": "10dcd27d",
   "metadata": {},
   "outputs": [
    {
     "name": "stdout",
     "output_type": "stream",
     "text": [
      "Requirement already satisfied: threadpoolctl in /Users/dharmik/opt/anaconda3/lib/python3.9/site-packages (3.2.0)\r\n"
     ]
    }
   ],
   "source": [
    "!pip install -U threadpoolctl"
   ]
  },
  {
   "cell_type": "code",
   "execution_count": 34,
   "id": "35c1980f",
   "metadata": {},
   "outputs": [
    {
     "data": {
      "image/png": "[encoded data removed]",
      "text/plain": [
       "<Figure size 720x360 with 1 Axes>"
      ]
     },
     "metadata": {
      "needs_background": "light"
     },
     "output_type": "display_data"
    }
   ],
   "source": [
    "from sklearn.cluster import KMeans\n",
    "# Determine the optimal number of clusters\n",
    "wcss = []\n",
    "for i in range(1, 11):\n",
    "    kmeans = KMeans(n_clusters=i, init='k-means++', random_state=42)\n",
    "    kmeans.fit(rfm_normalized)\n",
    "    wcss.append(kmeans.inertia_)\n",
    "\n",
    "# Plot the Elbow method\n",
    "plt.figure(figsize=(10,5))\n",
    "plt.plot(range(1, 11), wcss, marker='o', linestyle='--')\n",
    "plt.xlabel('Number of clusters')\n",
    "plt.ylabel('WCSS')\n",
    "plt.title('K-means clustering Elbow Method')\n",
    "plt.show()\n",
    "\n",
    "# Based on the elbow point, choose optimal clusters and run KMeans\n",
    "optimal_clusters = 3  # this can change based on your elbow plot\n",
    "kmeans = KMeans(n_clusters=optimal_clusters, init='k-means++', random_state=42)\n",
    "clusters = kmeans.fit_predict(rfm_normalized)\n",
    "\n",
    "rfm['Cluster'] = clusters"
   ]
  },
  {
   "cell_type": "code",
   "execution_count": 35,
   "id": "2c22c7b7",
   "metadata": {},
   "outputs": [
    {
     "data": {
      "image/png": "[encoded data removed]",
      "text/plain": [
       "<Figure size 419.125x360 with 1 Axes>"
      ]
     },
     "metadata": {
      "needs_background": "light"
     },
     "output_type": "display_data"
    }
   ],
   "source": [
    "from sklearn.cluster import KMeans\n",
    "\n",
    "# Fitting K Means to the Datatset using k = 3\n",
    "\n",
    "kmeans = KMeans(n_clusters = 3)\n",
    "y_kmeans = kmeans.fit_predict(rfm_normalized)\n",
    "rfm['Cluster_ID'] = y_kmeans\n",
    "# Create a plot for frequency vs monetary \n",
    "facet = sns.lmplot(data=rfm, x='Frequency', y='Monetary', hue='Cluster_ID', \n",
    "                   fit_reg=False, legend=True, legend_out=True)"
   ]
  },
  {
   "cell_type": "markdown",
   "id": "fc2ce7d6",
   "metadata": {},
   "source": [
    "# 8. Predictive Analytics:"
   ]
  },
  {
   "cell_type": "markdown",
   "id": "1bde92ff",
   "metadata": {},
   "source": [
    "8.1. Can you predict if a customer will return an item? Use the 'ReturnFlag' as the target variable and build a classification model.\n",
    "\n",
    "- Split data into training and test sets.\n",
    "- Use features like 'UnitPrice', 'Quantity', etc.\n",
    "- Evaluate model accuracy, precision, recall, and F1-score."
   ]
  },
  {
   "cell_type": "code",
   "execution_count": 36,
   "id": "210db25e",
   "metadata": {},
   "outputs": [
    {
     "name": "stdout",
     "output_type": "stream",
     "text": [
      "              precision    recall  f1-score   support\n",
      "\n",
      "           0       1.00      1.00      1.00    106226\n",
      "           1       1.00      1.00      1.00      2156\n",
      "\n",
      "    accuracy                           1.00    108382\n",
      "   macro avg       1.00      1.00      1.00    108382\n",
      "weighted avg       1.00      1.00      1.00    108382\n",
      "\n"
     ]
    }
   ],
   "source": [
    "from sklearn.model_selection import train_test_split\n",
    "from sklearn.ensemble import RandomForestClassifier\n",
    "from sklearn.metrics import classification_report\n",
    "\n",
    "features = data[['UnitPrice', 'Quantity']] \n",
    "target = data['ReturnFlag']\n",
    "\n",
    "for col in ['InvoiceDate', 'InvoiceNo','StockCode', 'Description', 'Country', 'CustomerID']:\n",
    "    if col in features.columns:  \n",
    "        del features[col]\n",
    "\n",
    "X_train, X_test, y_train, y_test = train_test_split(features, target, test_size=0.2, random_state=42)\n",
    "\n",
    "clf = RandomForestClassifier(random_state=42)\n",
    "clf.fit(X_train, y_train)\n",
    "\n",
    "predictions = clf.predict(X_test)\n",
    "\n",
    "print(classification_report(y_test, predictions))"
   ]
  },
  {
   "cell_type": "code",
   "execution_count": 37,
   "id": "65b34fce",
   "metadata": {},
   "outputs": [
    {
     "data": {
      "text/html": [
       "<div>\n",
       "<style scoped>\n",
       "    .dataframe tbody tr th:only-of-type {\n",
       "        vertical-align: middle;\n",
       "    }\n",
       "\n",
       "    .dataframe tbody tr th {\n",
       "        vertical-align: top;\n",
       "    }\n",
       "\n",
       "    .dataframe thead th {\n",
       "        text-align: right;\n",
       "    }\n",
       "</style>\n",
       "<table border=\"1\" class=\"dataframe\">\n",
       "  <thead>\n",
       "    <tr style=\"text-align: right;\">\n",
       "      <th></th>\n",
       "      <th>InvoiceNo</th>\n",
       "      <th>StockCode</th>\n",
       "      <th>Description</th>\n",
       "      <th>Quantity</th>\n",
       "      <th>InvoiceDate</th>\n",
       "      <th>UnitPrice</th>\n",
       "      <th>CustomerID</th>\n",
       "      <th>Country</th>\n",
       "      <th>TotalPrice</th>\n",
       "      <th>Month</th>\n",
       "      <th>TotalPurchase</th>\n",
       "      <th>Recency</th>\n",
       "      <th>Year</th>\n",
       "      <th>Day</th>\n",
       "      <th>Hour</th>\n",
       "      <th>ReturnFlag</th>\n",
       "    </tr>\n",
       "  </thead>\n",
       "  <tbody>\n",
       "    <tr>\n",
       "      <th>0</th>\n",
       "      <td>536365</td>\n",
       "      <td>85123A</td>\n",
       "      <td>WHITE HANGING HEART T-LIGHT HOLDER</td>\n",
       "      <td>6</td>\n",
       "      <td>2010-12-01 08:26:00</td>\n",
       "      <td>2.55</td>\n",
       "      <td>17850.0</td>\n",
       "      <td>United Kingdom</td>\n",
       "      <td>15.30</td>\n",
       "      <td>12</td>\n",
       "      <td>15.30</td>\n",
       "      <td>301.0</td>\n",
       "      <td>2010</td>\n",
       "      <td>1</td>\n",
       "      <td>8</td>\n",
       "      <td>0</td>\n",
       "    </tr>\n",
       "    <tr>\n",
       "      <th>1</th>\n",
       "      <td>536365</td>\n",
       "      <td>71053</td>\n",
       "      <td>WHITE METAL LANTERN</td>\n",
       "      <td>6</td>\n",
       "      <td>2010-12-01 08:26:00</td>\n",
       "      <td>3.39</td>\n",
       "      <td>17850.0</td>\n",
       "      <td>United Kingdom</td>\n",
       "      <td>20.34</td>\n",
       "      <td>12</td>\n",
       "      <td>20.34</td>\n",
       "      <td>301.0</td>\n",
       "      <td>2010</td>\n",
       "      <td>1</td>\n",
       "      <td>8</td>\n",
       "      <td>0</td>\n",
       "    </tr>\n",
       "    <tr>\n",
       "      <th>2</th>\n",
       "      <td>536365</td>\n",
       "      <td>84406B</td>\n",
       "      <td>CREAM CUPID HEARTS COAT HANGER</td>\n",
       "      <td>8</td>\n",
       "      <td>2010-12-01 08:26:00</td>\n",
       "      <td>2.75</td>\n",
       "      <td>17850.0</td>\n",
       "      <td>United Kingdom</td>\n",
       "      <td>22.00</td>\n",
       "      <td>12</td>\n",
       "      <td>22.00</td>\n",
       "      <td>301.0</td>\n",
       "      <td>2010</td>\n",
       "      <td>1</td>\n",
       "      <td>8</td>\n",
       "      <td>0</td>\n",
       "    </tr>\n",
       "    <tr>\n",
       "      <th>3</th>\n",
       "      <td>536365</td>\n",
       "      <td>84029G</td>\n",
       "      <td>KNITTED UNION FLAG HOT WATER BOTTLE</td>\n",
       "      <td>6</td>\n",
       "      <td>2010-12-01 08:26:00</td>\n",
       "      <td>3.39</td>\n",
       "      <td>17850.0</td>\n",
       "      <td>United Kingdom</td>\n",
       "      <td>20.34</td>\n",
       "      <td>12</td>\n",
       "      <td>20.34</td>\n",
       "      <td>301.0</td>\n",
       "      <td>2010</td>\n",
       "      <td>1</td>\n",
       "      <td>8</td>\n",
       "      <td>0</td>\n",
       "    </tr>\n",
       "    <tr>\n",
       "      <th>4</th>\n",
       "      <td>536365</td>\n",
       "      <td>84029E</td>\n",
       "      <td>RED WOOLLY HOTTIE WHITE HEART.</td>\n",
       "      <td>6</td>\n",
       "      <td>2010-12-01 08:26:00</td>\n",
       "      <td>3.39</td>\n",
       "      <td>17850.0</td>\n",
       "      <td>United Kingdom</td>\n",
       "      <td>20.34</td>\n",
       "      <td>12</td>\n",
       "      <td>20.34</td>\n",
       "      <td>301.0</td>\n",
       "      <td>2010</td>\n",
       "      <td>1</td>\n",
       "      <td>8</td>\n",
       "      <td>0</td>\n",
       "    </tr>\n",
       "  </tbody>\n",
       "</table>\n",
       "</div>"
      ],
      "text/plain": [
       "  InvoiceNo StockCode                          Description  Quantity  \\\n",
       "0    536365    85123A   WHITE HANGING HEART T-LIGHT HOLDER         6   \n",
       "1    536365     71053                  WHITE METAL LANTERN         6   \n",
       "2    536365    84406B       CREAM CUPID HEARTS COAT HANGER         8   \n",
       "3    536365    84029G  KNITTED UNION FLAG HOT WATER BOTTLE         6   \n",
       "4    536365    84029E       RED WOOLLY HOTTIE WHITE HEART.         6   \n",
       "\n",
       "          InvoiceDate  UnitPrice  CustomerID         Country  TotalPrice  \\\n",
       "0 2010-12-01 08:26:00       2.55     17850.0  United Kingdom       15.30   \n",
       "1 2010-12-01 08:26:00       3.39     17850.0  United Kingdom       20.34   \n",
       "2 2010-12-01 08:26:00       2.75     17850.0  United Kingdom       22.00   \n",
       "3 2010-12-01 08:26:00       3.39     17850.0  United Kingdom       20.34   \n",
       "4 2010-12-01 08:26:00       3.39     17850.0  United Kingdom       20.34   \n",
       "\n",
       "   Month  TotalPurchase  Recency  Year  Day  Hour  ReturnFlag  \n",
       "0     12          15.30    301.0  2010    1     8           0  \n",
       "1     12          20.34    301.0  2010    1     8           0  \n",
       "2     12          22.00    301.0  2010    1     8           0  \n",
       "3     12          20.34    301.0  2010    1     8           0  \n",
       "4     12          20.34    301.0  2010    1     8           0  "
      ]
     },
     "execution_count": 37,
     "metadata": {},
     "output_type": "execute_result"
    }
   ],
   "source": [
    "data.head()"
   ]
  },
  {
   "cell_type": "markdown",
   "id": "78347efb",
   "metadata": {},
   "source": [
    "8.2. Predict the `'TotalPrice'` for an invoice using regression models.\n",
    "- Consider relevant features and handle categorical ones appropriately (e.g., with one-hot encoding).\n",
    "- Split data, train the model, and evaluate its performance using metrics like MAE, RMSE, and R^2."
   ]
  },
  {
   "cell_type": "code",
   "execution_count": 38,
   "id": "a10d8407",
   "metadata": {
    "scrolled": false
   },
   "outputs": [
    {
     "name": "stdout",
     "output_type": "stream",
     "text": [
      "Mean Absolute Error (MAE): 17.433449317229787\n",
      "Root Mean Squared Error (RMSE): 224.6022215979858\n",
      "R-squared (R^2): 0.8463479278316323\n"
     ]
    }
   ],
   "source": [
    "from sklearn.model_selection import train_test_split\n",
    "from sklearn.linear_model import LinearRegression\n",
    "from sklearn.metrics import mean_absolute_error, mean_squared_error, r2_score\n",
    "\n",
    "# Define features and target variable\n",
    "features = ['UnitPrice', 'Quantity'] \n",
    "X = df_new[features]\n",
    "y = df_new['TotalPrice']\n",
    "\n",
    "# Split data into training and test sets\n",
    "X_train, X_test, y_train, y_test = train_test_split(X, y, test_size=0.2, random_state=42)\n",
    "\n",
    "# Create and train a LinearRegression model\n",
    "model = LinearRegression()\n",
    "model.fit(X_train, y_train)\n",
    "\n",
    "y_pred = model.predict(X_test)\n",
    "\n",
    "mae = mean_absolute_error(y_test, y_pred)\n",
    "rmse = mean_squared_error(y_test, y_pred, squared=False)\n",
    "r2 = r2_score(y_test, y_pred)\n",
    "\n",
    "print(f'Mean Absolute Error (MAE): {mae}')\n",
    "print(f'Root Mean Squared Error (RMSE): {rmse}')\n",
    "print(f'R-squared (R^2): {r2}')"
   ]
  },
  {
   "cell_type": "markdown",
   "id": "979bbed3",
   "metadata": {},
   "source": [
    "## 9. Association Rule Mining:\n",
    "- 9.1 Identify frequently bought products together. Use the Apriori algorithm to extract meaningful association rules.\n",
    "- 9.2 Based on the rules, suggest product bundling strategies to the retail store."
   ]
  },
  {
   "cell_type": "code",
   "execution_count": 39,
   "id": "b432ce64",
   "metadata": {},
   "outputs": [],
   "source": [
    "! pip install mlxtend --q"
   ]
  },
  {
   "cell_type": "code",
   "execution_count": 40,
   "id": "7422cd42",
   "metadata": {},
   "outputs": [
    {
     "name": "stderr",
     "output_type": "stream",
     "text": [
      "/Users/dharmik/opt/anaconda3/lib/python3.9/site-packages/mlxtend/frequent_patterns/fpcommon.py:110: DeprecationWarning:\n",
      "\n",
      "DataFrames with non-bool types result in worse computationalperformance and their support might be discontinued in the future.Please use a DataFrame with bool type\n",
      "\n"
     ]
    },
    {
     "data": {
      "text/html": [
       "<div>\n",
       "<style scoped>\n",
       "    .dataframe tbody tr th:only-of-type {\n",
       "        vertical-align: middle;\n",
       "    }\n",
       "\n",
       "    .dataframe tbody tr th {\n",
       "        vertical-align: top;\n",
       "    }\n",
       "\n",
       "    .dataframe thead th {\n",
       "        text-align: right;\n",
       "    }\n",
       "</style>\n",
       "<table border=\"1\" class=\"dataframe\">\n",
       "  <thead>\n",
       "    <tr style=\"text-align: right;\">\n",
       "      <th></th>\n",
       "      <th>antecedents</th>\n",
       "      <th>consequents</th>\n",
       "      <th>antecedent support</th>\n",
       "      <th>consequent support</th>\n",
       "      <th>support</th>\n",
       "      <th>confidence</th>\n",
       "      <th>lift</th>\n",
       "      <th>leverage</th>\n",
       "      <th>conviction</th>\n",
       "      <th>zhangs_metric</th>\n",
       "    </tr>\n",
       "  </thead>\n",
       "  <tbody>\n",
       "    <tr>\n",
       "      <th>0</th>\n",
       "      <td>(GREEN REGENCY TEACUP AND SAUCER)</td>\n",
       "      <td>(ROSES REGENCY TEACUP AND SAUCER )</td>\n",
       "      <td>0.041520</td>\n",
       "      <td>0.043606</td>\n",
       "      <td>0.031416</td>\n",
       "      <td>0.756650</td>\n",
       "      <td>17.351850</td>\n",
       "      <td>0.029606</td>\n",
       "      <td>3.930120</td>\n",
       "      <td>0.983191</td>\n",
       "    </tr>\n",
       "    <tr>\n",
       "      <th>1</th>\n",
       "      <td>(ROSES REGENCY TEACUP AND SAUCER )</td>\n",
       "      <td>(GREEN REGENCY TEACUP AND SAUCER)</td>\n",
       "      <td>0.043606</td>\n",
       "      <td>0.041520</td>\n",
       "      <td>0.031416</td>\n",
       "      <td>0.720450</td>\n",
       "      <td>17.351850</td>\n",
       "      <td>0.029606</td>\n",
       "      <td>3.428656</td>\n",
       "      <td>0.985336</td>\n",
       "    </tr>\n",
       "    <tr>\n",
       "      <th>2</th>\n",
       "      <td>(JUMBO BAG RED RETROSPOT)</td>\n",
       "      <td>(JUMBO BAG PINK POLKADOT)</td>\n",
       "      <td>0.085576</td>\n",
       "      <td>0.049824</td>\n",
       "      <td>0.033748</td>\n",
       "      <td>0.394359</td>\n",
       "      <td>7.915034</td>\n",
       "      <td>0.029484</td>\n",
       "      <td>1.568878</td>\n",
       "      <td>0.955419</td>\n",
       "    </tr>\n",
       "    <tr>\n",
       "      <th>3</th>\n",
       "      <td>(JUMBO BAG PINK POLKADOT)</td>\n",
       "      <td>(JUMBO BAG RED RETROSPOT)</td>\n",
       "      <td>0.049824</td>\n",
       "      <td>0.085576</td>\n",
       "      <td>0.033748</td>\n",
       "      <td>0.677340</td>\n",
       "      <td>7.915034</td>\n",
       "      <td>0.029484</td>\n",
       "      <td>2.834015</td>\n",
       "      <td>0.919470</td>\n",
       "    </tr>\n",
       "  </tbody>\n",
       "</table>\n",
       "</div>"
      ],
      "text/plain": [
       "                          antecedents                         consequents  \\\n",
       "0   (GREEN REGENCY TEACUP AND SAUCER)  (ROSES REGENCY TEACUP AND SAUCER )   \n",
       "1  (ROSES REGENCY TEACUP AND SAUCER )   (GREEN REGENCY TEACUP AND SAUCER)   \n",
       "2           (JUMBO BAG RED RETROSPOT)           (JUMBO BAG PINK POLKADOT)   \n",
       "3           (JUMBO BAG PINK POLKADOT)           (JUMBO BAG RED RETROSPOT)   \n",
       "\n",
       "   antecedent support  consequent support   support  confidence       lift  \\\n",
       "0            0.041520            0.043606  0.031416    0.756650  17.351850   \n",
       "1            0.043606            0.041520  0.031416    0.720450  17.351850   \n",
       "2            0.085576            0.049824  0.033748    0.394359   7.915034   \n",
       "3            0.049824            0.085576  0.033748    0.677340   7.915034   \n",
       "\n",
       "   leverage  conviction  zhangs_metric  \n",
       "0  0.029606    3.930120       0.983191  \n",
       "1  0.029606    3.428656       0.985336  \n",
       "2  0.029484    1.568878       0.955419  \n",
       "3  0.029484    2.834015       0.919470  "
      ]
     },
     "execution_count": 40,
     "metadata": {},
     "output_type": "execute_result"
    }
   ],
   "source": [
    "from mlxtend.frequent_patterns import apriori, association_rules\n",
    "\n",
    "# Creating a basket\n",
    "basket = (data.groupby(['InvoiceNo', 'Description'])['Quantity']\n",
    "          .sum().unstack().reset_index().fillna(0)\n",
    "          .set_index('InvoiceNo'))\n",
    "\n",
    "# Convert the units to 1 hot encoded values\n",
    "def encode_units(x):\n",
    "    if x <= 0:\n",
    "        return 0\n",
    "    if x >= 1:\n",
    "        return 1\n",
    "\n",
    "basket_encoded = basket.applymap(encode_units)\n",
    "\n",
    "# Build frequent items\n",
    "frequent_itemsets = apriori(basket_encoded, min_support=0.03, use_colnames=True)\n",
    "\n",
    "# Association rules\n",
    "rules = association_rules(frequent_itemsets, metric=\"lift\", min_threshold=1)\n",
    "rules"
   ]
  },
  {
   "cell_type": "markdown",
   "id": "94407ec3",
   "metadata": {},
   "source": [
    "# Advanced EDA Techniques:"
   ]
  },
  {
   "cell_type": "markdown",
   "id": "66d8d022",
   "metadata": {},
   "source": [
    "11. Pareto Analysis (80/20 Rule):\n",
    "- Identify the 20% of the products that generate 80% of the revenue.\n",
    "- Conversely, identify the 20% of the customers responsible for 80% of the sales.    "
   ]
  },
  {
   "cell_type": "code",
   "execution_count": 41,
   "id": "011acfb9",
   "metadata": {},
   "outputs": [
    {
     "name": "stdout",
     "output_type": "stream",
     "text": [
      "     StockCode  TotalPrice  CumulativePercentage\n",
      "4059       DOT   206245.48              0.021158\n",
      "1348     22423   164762.19              0.038061\n",
      "2733     47566    98302.98              0.048146\n",
      "3536    85123A    97894.50              0.058188\n",
      "3515    85099B    92356.03              0.067663\n",
      "1982     23084    66756.59              0.074511\n",
      "4062      POST    66230.64              0.081306\n",
      "1043     22086    63791.94              0.087850\n",
      "3305     84879    58959.73              0.093899\n",
      "2924     79321    53768.06              0.099415\n",
      "1422     22502    51041.37              0.104651\n",
      "1147     22197    50987.47              0.109881\n",
      "2179     23298    42700.02              0.114262\n",
      "1317     22386    41619.66              0.118532\n",
      "2096     23203    40991.38              0.122737\n",
      "404      21137    40596.96              0.126902\n",
      "1631     22720    37413.44              0.130740\n",
      "2165     23284    36565.39              0.134491\n",
      "1862     22960    36116.09              0.138196\n",
      "2954     82484    35859.27              0.141875\n",
      "180      20725    35187.31              0.145485\n",
      "1071     22114    32692.49              0.148838\n",
      "1128     22178    32549.57              0.152178\n",
      "1069     22112    32317.30              0.155493\n",
      "3517    85099F    32121.98              0.158788\n",
      "1813     22910    31941.89              0.162065\n",
      "1391     22469    31899.85              0.165338\n",
      "2138     23245    30756.45              0.168493\n",
      "1637     22727    30423.62              0.171614\n",
      "944      21931    30167.79              0.174709\n",
      "1392     22470    29949.91              0.177781\n",
      "2092     23199    29166.40              0.180773\n",
      "1290     22355    29164.36              0.183765\n",
      "2236     23355    28424.95              0.186681\n",
      "1336     22411    28012.48              0.189555\n",
      "1381     22457    27995.36              0.192427\n",
      "1610     22699    27944.92              0.195294\n",
      "155      20685    27621.32              0.198128\n",
      "Total revenue from top 20% of products: 1931297.14\n"
     ]
    }
   ],
   "source": [
    "# Calculate the contribution of each product to the total revenue\n",
    "product_revenue = data.groupby('StockCode')['TotalPrice'].sum().reset_index()\n",
    "product_revenue = product_revenue.sort_values(by='TotalPrice', ascending=False)\n",
    "\n",
    "# Calculate the cumulative percentage of revenue\n",
    "product_revenue['CumulativePercentage'] = product_revenue['TotalPrice'].cumsum() / product_revenue['TotalPrice'].sum()\n",
    "\n",
    "# Find the stock codes that make up the top 20% of products\n",
    "top_products = product_revenue[product_revenue['CumulativePercentage'] <= 0.20]\n",
    "\n",
    "# Calculate the total revenue generated by the top products\n",
    "revenue_from_top_products = top_products['TotalPrice'].sum()\n",
    "\n",
    "# Print the top products and the total revenue they generate\n",
    "print(top_products)\n",
    "print(f'Total revenue from top 20% of products: {revenue_from_top_products:.2f}')\n"
   ]
  },
  {
   "cell_type": "markdown",
   "id": "065878fc",
   "metadata": {},
   "source": [
    "12. Time-Series Anomalies:\n",
    "- Detect any anomalies or outliers in the sales data over time using rolling averages or other advanced methods."
   ]
  },
  {
   "cell_type": "code",
   "execution_count": 42,
   "id": "45f15678",
   "metadata": {},
   "outputs": [
    {
     "name": "stdout",
     "output_type": "stream",
     "text": [
      "      CustomerID  TotalPrice  CumulativePercentage\n",
      "1703     14646.0   279489.02              0.033673\n",
      "4233     18102.0   256438.49              0.064569\n",
      "3758     17450.0   187482.17              0.087157\n",
      "1895     14911.0   132572.62              0.103130\n",
      "55       12415.0   123725.45              0.118036\n",
      "1345     14156.0   113384.14              0.131697\n",
      "3801     17511.0    88125.38              0.142314\n",
      "3202     16684.0    65892.08              0.150253\n",
      "1005     13694.0    62653.10              0.157801\n",
      "2192     15311.0    59419.34              0.164960\n",
      "568      13089.0    57385.88              0.171874\n",
      "1300     14096.0    57120.91              0.178756\n",
      "1999     15061.0    54228.74              0.185290\n",
      "4125     17949.0    52750.84              0.191645\n",
      "2537     15769.0    51823.72              0.197889\n",
      "Total sales from top 20% of customers: 1642491.88\n"
     ]
    }
   ],
   "source": [
    "# Calculate the contribution of each customer to the total sales\n",
    "customer_sales = data.groupby('CustomerID')['TotalPrice'].sum().reset_index()\n",
    "customer_sales = customer_sales.sort_values(by='TotalPrice', ascending=False)\n",
    "\n",
    "# Calculate the cumulative percentage of sales\n",
    "customer_sales['CumulativePercentage'] = customer_sales['TotalPrice'].cumsum() / customer_sales['TotalPrice'].sum()\n",
    "\n",
    "# Find the customer IDs that make up the top 20% of customers\n",
    "top_customers = customer_sales[customer_sales['CumulativePercentage'] <= 0.20]\n",
    "\n",
    "# Calculate the total sales generated by the top customers\n",
    "sales_from_top_customers = top_customers['TotalPrice'].sum()\n",
    "\n",
    "# Print the top customers and the total sales they generate\n",
    "print(top_customers)\n",
    "print(f'Total sales from top 20% of customers: {sales_from_top_customers:.2f}')\n"
   ]
  },
  {
   "cell_type": "markdown",
   "id": "a48c3c78",
   "metadata": {},
   "source": [
    "# Advanced Modeling Techniques:"
   ]
  },
  {
   "cell_type": "markdown",
   "id": "3355bd5f",
   "metadata": {},
   "source": [
    "13. Market Basket Analysis Enhancements:\n",
    "- Dig deeper into association rules. For instance, find rules with a high lift and high confidence.\n",
    "- Analyze antecedents with more than one item, which can give bundled product suggestions."
   ]
  },
  {
   "cell_type": "code",
   "execution_count": 43,
   "id": "afdf8362",
   "metadata": {},
   "outputs": [
    {
     "data": {
      "text/plain": [
       "<AxesSubplot:xlabel='support', ylabel='confidence'>"
      ]
     },
     "execution_count": 43,
     "metadata": {},
     "output_type": "execute_result"
    },
    {
     "data": {
      "image/png": "[encoded data removed]",
      "text/plain": [
       "<Figure size 432x288 with 1 Axes>"
      ]
     },
     "metadata": {
      "needs_background": "light"
     },
     "output_type": "display_data"
    }
   ],
   "source": [
    "rules = association_rules(frequent_itemsets, metric=\"lift\", min_threshold=0.1)\n",
    "top_rules = rules[rules['confidence'] > 0.01]\n",
    "sns.scatterplot(x='support', y='confidence', size='lift', data=top_rules)"
   ]
  },
  {
   "cell_type": "markdown",
   "id": "13cdf266",
   "metadata": {},
   "source": [
    "## 14. Product Recommendation Systems:\n",
    "- Develop a system to recommend products to users.\n",
    "- Consider collaborative filtering techniques, matrix factorization, or deep learning-based approaches like neural collaborative filtering."
   ]
  },
  {
   "cell_type": "code",
   "execution_count": 44,
   "id": "dafa8a95",
   "metadata": {},
   "outputs": [
    {
     "name": "stdout",
     "output_type": "stream",
     "text": [
      "Stockcode list for recommended products are - ['22087', '22668', '47566', '47566B']\n"
     ]
    }
   ],
   "source": [
    "from sklearn.metrics.pairwise import cosine_similarity\n",
    "\n",
    "# Create a user-product matrix\n",
    "user_product_matrix = data.pivot_table(index='CustomerID', columns='StockCode', values='Quantity', fill_value=0)\n",
    "reindexed_user_product_matrix = user_product_matrix.reset_index()\n",
    "# Compute the cosine similarity matrix\n",
    "cosine_sim = cosine_similarity(user_product_matrix)\n",
    "\n",
    "# Get product recommendations for a user based on their purchase history\n",
    "def get_recommendations(user_id, cosine_sim=cosine_sim):\n",
    "    idx = reindexed_user_product_matrix[reindexed_user_product_matrix['CustomerID']==user_id].index[0]        \n",
    "    # Get pairwise similarity scores\n",
    "    sim_scores = list(enumerate(cosine_sim[idx]))\n",
    "    \n",
    "    # Sort users based on similarity scores\n",
    "    sim_scores = sorted(sim_scores, key=lambda x: x[1], reverse=True)\n",
    "    \n",
    "    # Get products bought by the most similar user\n",
    "    user_idx = sim_scores[1][0]\n",
    "    similar_user_products = user_product_matrix.iloc[user_idx]\n",
    "    recommended_products = similar_user_products[similar_user_products > 0].index.tolist()\n",
    "    \n",
    "    return recommended_products\n",
    "\n",
    "stockcodelist = get_recommendations(13113.0) # Replace 2154 with an actual CustomerID\n",
    "print(f\"Stockcode list for recommended products are - {stockcodelist}\")"
   ]
  },
  {
   "cell_type": "markdown",
   "id": "acf20acd",
   "metadata": {},
   "source": [
    "## 15. Churn Prediction:\n",
    "- Predict if a customer will stop buying products in the near future.\n",
    "- Features can include Recency, Frequency, Monetary values, average time between purchases, total categories bought, etc."
   ]
  },
  {
   "cell_type": "code",
   "execution_count": 45,
   "id": "cf17c3df",
   "metadata": {},
   "outputs": [
    {
     "name": "stdout",
     "output_type": "stream",
     "text": [
      "              precision    recall  f1-score   support\n",
      "\n",
      "       False       0.96      1.00      0.98    155993\n",
      "        True       0.00      0.00      0.00      6580\n",
      "\n",
      "    accuracy                           0.96    162573\n",
      "   macro avg       0.48      0.50      0.49    162573\n",
      "weighted avg       0.92      0.96      0.94    162573\n",
      "\n"
     ]
    }
   ],
   "source": [
    "from sklearn.linear_model import LogisticRegression\n",
    "from sklearn.model_selection import train_test_split\n",
    "from sklearn.metrics import classification_report\n",
    "\n",
    "# For this example, let's assume if a customer hasn't purchased in the last 6 months, they've churned\n",
    "data['LastPurchase'] = data.groupby('CustomerID')['InvoiceDate'].transform('max')\n",
    "max_date = data['InvoiceDate'].max()\n",
    "data['Churn'] = (max_date - data['LastPurchase']).dt.days > 180\n",
    "\n",
    "X = data[['TotalPrice', 'Quantity']] # Add more relevant features\n",
    "y = data['Churn']\n",
    "\n",
    "X_train, X_test, y_train, y_test = train_test_split(X, y, test_size=0.3, random_state=42)\n",
    "\n",
    "clf = LogisticRegression()\n",
    "clf.fit(X_train, y_train)\n",
    "\n",
    "y_pred = clf.predict(X_test)\n",
    "print(classification_report(y_test, y_pred))"
   ]
  },
  {
   "cell_type": "markdown",
   "id": "56fc4e0f",
   "metadata": {},
   "source": [
    "## 16. Hyperparameter Tuning and Model Optimization:\n",
    "- For any given machine learning model you use, apply techniques like grid search or random search for hyperparameter tuning.\n",
    "- Use ensemble methods (e.g., stacking, bagging, boosting) to enhance prediction performance."
   ]
  },
  {
   "cell_type": "code",
   "execution_count": 46,
   "id": "6d7053b2",
   "metadata": {},
   "outputs": [
    {
     "name": "stdout",
     "output_type": "stream",
     "text": [
      "Fitting 5 folds for each of 4 candidates, totalling 20 fits\n",
      "[CV 1/5] END .................C=0.1, penalty=l2;, score=0.960 total time=   0.6s\n",
      "[CV 2/5] END .................C=0.1, penalty=l2;, score=0.960 total time=   0.7s\n",
      "[CV 3/5] END .................C=0.1, penalty=l2;, score=0.960 total time=   0.7s\n",
      "[CV 4/5] END .................C=0.1, penalty=l2;, score=0.960 total time=   0.8s\n",
      "[CV 5/5] END .................C=0.1, penalty=l2;, score=0.960 total time=   0.7s\n",
      "[CV 1/5] END ...................C=1, penalty=l2;, score=0.960 total time=   0.6s\n",
      "[CV 2/5] END ...................C=1, penalty=l2;, score=0.960 total time=   0.6s\n",
      "[CV 3/5] END ...................C=1, penalty=l2;, score=0.960 total time=   0.6s\n",
      "[CV 4/5] END ...................C=1, penalty=l2;, score=0.960 total time=   0.6s\n",
      "[CV 5/5] END ...................C=1, penalty=l2;, score=0.960 total time=   0.5s\n",
      "[CV 1/5] END ..................C=10, penalty=l2;, score=0.960 total time=   0.5s\n",
      "[CV 2/5] END ..................C=10, penalty=l2;, score=0.960 total time=   0.5s\n",
      "[CV 3/5] END ..................C=10, penalty=l2;, score=0.960 total time=   0.6s\n",
      "[CV 4/5] END ..................C=10, penalty=l2;, score=0.960 total time=   0.9s\n",
      "[CV 5/5] END ..................C=10, penalty=l2;, score=0.960 total time=   0.7s\n",
      "[CV 1/5] END .................C=100, penalty=l2;, score=0.960 total time=   0.7s\n",
      "[CV 2/5] END .................C=100, penalty=l2;, score=0.960 total time=   0.8s\n",
      "[CV 3/5] END .................C=100, penalty=l2;, score=0.960 total time=   0.8s\n",
      "[CV 4/5] END .................C=100, penalty=l2;, score=0.960 total time=   0.8s\n",
      "[CV 5/5] END .................C=100, penalty=l2;, score=0.960 total time=   0.6s\n",
      "{'C': 0.1, 'penalty': 'l2'}\n",
      "              precision    recall  f1-score   support\n",
      "\n",
      "       False       0.96      1.00      0.98    155993\n",
      "        True       0.00      0.00      0.00      6580\n",
      "\n",
      "    accuracy                           0.96    162573\n",
      "   macro avg       0.48      0.50      0.49    162573\n",
      "weighted avg       0.92      0.96      0.94    162573\n",
      "\n"
     ]
    }
   ],
   "source": [
    "from sklearn.model_selection import GridSearchCV\n",
    "from sklearn.linear_model import LogisticRegression\n",
    "param_grid = {\n",
    "    'C': [0.1, 1, 10, 100],\n",
    "    'penalty': ['l2']\n",
    "}\n",
    "\n",
    "grid = GridSearchCV(LogisticRegression(), param_grid, verbose=3)\n",
    "grid.fit(X_train, y_train)\n",
    "\n",
    "print(grid.best_params_)\n",
    "\n",
    "grid_predictions = grid.predict(X_test)\n",
    "print(classification_report(y_test, grid_predictions))"
   ]
  }
 ],
 "metadata": {
  "kernelspec": {
   "display_name": "Python 3 (ipykernel)",
   "language": "python",
   "name": "python3"
  },
  "language_info": {
   "codemirror_mode": {
    "name": "ipython",
    "version": 3
   },
   "file_extension": ".py",
   "mimetype": "text/x-python",
   "name": "python",
   "nbconvert_exporter": "python",
   "pygments_lexer": "ipython3",
   "version": "3.9.12"
  }
 },
 "nbformat": 4,
 "nbformat_minor": 5
}
